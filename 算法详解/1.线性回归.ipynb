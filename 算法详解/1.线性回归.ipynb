{
 "cells": [
  {
   "cell_type": "markdown",
   "id": "a5f14381",
   "metadata": {},
   "source": [
    "### 线性回归算法详解\n",
    "\n",
    "\n",
    "#### 一、核心概念\n",
    "线性回归是一种通过建立自变量(特征)与因变量(目标值)之间的**线性关系**来进行预测的监督学习算法。其核心假设是:因变量可由自变量的线性组合(加常数项)表示,即  \n",
    "$$\\hat{y} = w_0 + w_1x_1 + w_2x_2 + ... + w_nx_n$$  \n",
    "其中,$\\hat{y}$ 是预测值,$x_1,x_2,...,x_n$ 是自变量,$w_0$ 是截距项,$w_1,w_2,...,w_n$ 是特征权重(待求解参数)。\n",
    "\n",
    "\n",
    "#### 二、核心原理\n",
    "1. **目标函数**  \n",
    "   线性回归通过最小化**预测值与真实值的平方误差和(SSE)** 求解最优参数,即:  \n",
    "   $$\\text{Loss} = \\sum_{i=1}^m (\\hat{y}_i - y_i)^2 = \\sum_{i=1}^m (w_0 + w_1x_{i1} + ... + w_nx_{in} - y_i)^2$$  \n",
    "   该目标函数也称为**均方误差(MSE)** 的总和(除以样本量 $m$ 即为 MSE)。\n",
    "\n",
    "2. **参数求解**  \n",
    "   - **解析解(最小二乘法)**:通过对目标函数求导并令导数为 0,可直接求解参数 $w$ 的解析解:  \n",
    "     $$\\hat{w} = (X^TX)^{-1}X^Ty$$  \n",
    "     其中 $X$ 是包含截距项(全为 1 的列)的特征矩阵,$y$ 是真实值向量。  \n",
    "   - **数值解法**:当特征维度高或 $X^TX$ 不可逆时(如多重共线性),可通过梯度下降、随机梯度下降(SGD)等迭代方法求解参数。\n",
    "\n",
    "\n",
    "#### 三、扩展变体\n",
    "1. **多元线性回归**:自变量数量 ≥ 2(区别于单变量线性回归)。  \n",
    "2. **多项式回归**:通过对特征进行多项式转换(如 $x \\to x^2, x^3$),将非线性关系转化为线性回归问题(本质仍是线性回归,参数为多项式系数)。  \n",
    "3. **正则化线性回归**:  \n",
    "   - **岭回归(Ridge Regression)**:在损失函数中加入 $L_2$ 正则项($\\lambda\\sum w_i^2$),缓解多重共线性,防止过拟合。  \n",
    "   - **Lasso 回归**:加入 $L_1$ 正则项($\\lambda\\sum |w_i|$),可实现特征选择(使部分 $w_i=0$)。  \n",
    "   - **Elastic Net**:结合 $L_1$ 和 $L_2$ 正则项,平衡特征选择与稳定性。  \n",
    "\n",
    "\n",
    "#### 四、适用场景\n",
    "- **任务类型**:仅适用于**回归任务**(预测连续值,如房价、销售额、温度等)。  \n",
    "- **数据要求**:  \n",
    "  - 特征与目标值存在**线性相关性**(可通过可视化或相关性分析验证)。  \n",
    "  - 误差项满足**独立性、同方差性、正态分布**(违反时需预处理,如对数变换、去除异常值)。  \n",
    "- 典型场景:  \n",
    "  - 房价预测(基于面积、房间数等特征)。  \n",
    "  - 销售额预测(基于广告投入、客流量等特征)。  \n",
    "  - 学生成绩预测(基于学习时长、出勤率等特征)。  \n",
    "\n",
    "\n",
    "#### 五、实践要点\n",
    "1. **特征预处理**:  \n",
    "   - **标准化/归一化**:消除量纲影响(如梯度下降时加速收敛)。  \n",
    "   - **处理多重共线性**:通过方差膨胀因子(VIF)检测,删除高相关特征或使用岭回归。  \n",
    "   - **缺失值处理**:填充(均值、中位数)或删除缺失样本。  \n",
    "\n",
    "2. **过拟合与欠拟合**:  \n",
    "   - 欠拟合:模型过于简单(如线性关系假设不成立),需增加特征复杂度(如多项式转换)。  \n",
    "   - 过拟合:模型过于复杂(如高次多项式),需简化模型、增加正则化强度或增大样本量。  \n",
    "\n",
    "3. **模型评估**:需结合任务需求选择评估指标(见下文)。  \n",
    "\n",
    "\n",
    "#### 六、评估指标怎么选？\n",
    "线性回归的评估指标用于衡量预测值与真实值的差异,选择需结合**业务场景**和**数据特点**:  \n",
    "\n",
    "| 指标名称       | 公式(针对测试集)                          | 特点与适用场景                                                                 |\n",
    "|----------------|-------------------------------------------|------------------------------------------------------------------------------|\n",
    "| 均方误差(MSE) | $\\text{MSE} = \\frac{1}{m}\\sum (\\hat{y}_i - y_i)^2$ | 对异常值敏感(平方放大误差),适用于关注误差大小的场景(如房价预测,大误差影响大)。 |\n",
    "| 均方根误差(RMSE) | $\\text{RMSE} = \\sqrt{\\text{MSE}}$          | 与目标值同量纲,更易解释(如预测房价时,RMSE=5 表示平均误差 5 万元)。           |\n",
    "| 平均绝对误差(MAE) | $\\text{MAE} = \\frac{1}{m}\\sum \\vert\\hat{y}_i - y_i\\vert$ | 对异常值稳健,适用于异常值较多的场景(如销售额预测,避免极端值干扰)。           |\n",
    "| 决定系数($R^2$) | $R^2 = 1 - \\frac{\\sum (\\hat{y}_i - y_i)^2}{\\sum (y_i - \\bar{y})^2}$ | 表示模型解释的方差比例(范围 [0,1]),越接近 1 说明拟合越好,适用于需要直观判断模型整体性能的场景。 |\n",
    "\n",
    "- **优先选 $R^2$**:快速判断模型整体拟合效果,不受量纲影响。  \n",
    "- **关注 RMSE/MAE**:当需要具体误差数值(如“平均预测偏差多少元”)时使用,异常值多则选 MAE。  \n",
    "\n",
    "\n",
    "#### 七、代码实例(3种)\n",
    "\n",
    "##### 1. 简洁版:手撕线性回归(最小二乘法)"
   ]
  },
  {
   "cell_type": "code",
   "execution_count": null,
   "id": "c9af9b9b",
   "metadata": {},
   "outputs": [
    {
     "name": "stdout",
     "output_type": "stream",
     "text": [
      "X:\n",
      " [[0.37454012 0.95071431]\n",
      " [0.73199394 0.59865848]\n",
      " [0.15601864 0.15599452]\n",
      " [0.05808361 0.86617615]\n",
      " [0.60111501 0.70807258]]\n",
      "\n",
      "y:\n",
      " (100,)\n",
      "\n",
      "X_b(添加截距项后的X):\n",
      " [[1.         0.37454012 0.95071431]\n",
      " [1.         0.73199394 0.59865848]\n",
      " [1.         0.15601864 0.15599452]\n",
      " [1.         0.05808361 0.86617615]\n",
      " [1.         0.60111501 0.70807258]]\n",
      "\n",
      "参数w(截距项+权重):\n",
      " [2.97722723 2.03386668 5.0354946 ]\n"
     ]
    }
   ],
   "source": [
    "import numpy as np\n",
    "\n",
    "# 生成样本数据(y = 3 + 2x1 + 5x2 添加截距项后的X+ 噪声)\n",
    "np.random.seed(42)  # 设置随机种子以便复现结果\n",
    "X = np.random.rand(100, 2)  # 2个特征,100个样本\n",
    "y = 3 + 2 * X[:, 0] + 5 * X[:, 1] + np.random.normal(0, 0.1, 100)  # 加入噪声\n",
    "\"\"\"\n",
    "    np.random.normal(0, 0.1, 100) 的作用是生成 100 个\n",
    "    服从正态分布的随机数,这些数的均值为 0,标准差为 0.1。\n",
    "\"\"\"\n",
    "print(\"X:\\n\", X[:5])\n",
    "print(\"\\ny:\\n\", y.shape)\n",
    "\n",
    "# 给X添加截距项(全为1的列)\n",
    "X_b = np.hstack([np.ones((X.shape[0], 1)), X])\n",
    "\"\"\"\n",
    "    1. X.shape[0] 表示矩阵 X 的行数（即样本数量），shape方括号里的数字表示维度。\n",
    "    2. np.ones((X.shape[0], 1)): 该函数用于创建一个二维 numpy 数组，形状为 (X.shape[0], 1)。\n",
    "    3. np.hstack(): 该函数用于将多个数组在水平方向（列方向）上拼接起来。这里将全 1 数组和特征矩阵 X 拼接，\n",
    "\"\"\"\n",
    "print(\"\\nX_b(添加截距项后的X):\\n\", X_b[:5])\n",
    "\n",
    "# 最小二乘法求解参数\n",
    "w = np.linalg.inv(X_b.T @ X_b) @ X_b.T @y\n",
    "\n",
    "print(\"\\n参数w(截距项+权重):\\n\", w)  # 应接近 [3, 2, 5]"
   ]
  },
  {
   "cell_type": "markdown",
   "id": "f262b8ce",
   "metadata": {},
   "source": [
    "##### 2. 简洁版:sklearn 实现线性回归"
   ]
  },
  {
   "cell_type": "code",
   "id": "7ceb3235",
   "metadata": {
    "ExecuteTime": {
     "end_time": "2025-07-24T06:42:44.101924Z",
     "start_time": "2025-07-24T06:42:44.093871Z"
    }
   },
   "source": [
    "from sklearn.linear_model import LinearRegression\n",
    "from sklearn.model_selection import train_test_split\n",
    "import numpy as np\n",
    "\n",
    "# 生成数据(同上)\n",
    "np.random.seed(42)\n",
    "X = np.random.rand(100, 2)\n",
    "y = 3 + 2*X[:,0] + 5*X[:,1] + np.random.normal(0, 0.1, 100)\n",
    "print(\"X:\\n\", X[:5],\"\\n\")\n",
    "print(\"y:\\n\", y[:5],\"\\n\")\n",
    "print(\"y.shape:\\n\", y.shape,\"\\n\")\n",
    "\n",
    "# 划分训练集和测试集\n",
    "X_train, X_test, y_train, y_test = train_test_split(X, y, test_size=0.2, random_state=42)\n",
    "\n",
    "# 训练模型\n",
    "model = LinearRegression()\n",
    "model.fit(X_train, y_train)\n",
    "\n",
    "# 输出参数与预测\n",
    "print(\"截距项:\\n\", model.intercept_,\"\\n\")  # 接近3\n",
    "print(\"权重:\\n\", model.coef_,\"\\n\")  # 接近[2,5]\n",
    "\n",
    "print(\"测试集特征值：\\n\", X_test[:5],\"\\n\")\n",
    "print(\"测试集目标值：\\n\", y_test[:5],\"\\n\")\n",
    "print(\"预测结果：\\n\",model.predict(X_test)[:5])"
   ],
   "outputs": [
    {
     "name": "stdout",
     "output_type": "stream",
     "text": [
      "X:\n",
      " [[0.37454012 0.95071431]\n",
      " [0.73199394 0.59865848]\n",
      " [0.15601864 0.15599452]\n",
      " [0.05808361 0.86617615]\n",
      " [0.60111501 0.70807258]] \n",
      "\n",
      "y:\n",
      " [8.4346493  7.48050567 4.12131713 7.37561281 7.92917036] \n",
      "\n",
      "y.shape:\n",
      " (100,) \n",
      "\n",
      "截距项:\n",
      " 2.971667149938966 \n",
      "\n",
      "权重:\n",
      " [2.02545136 5.04741599] \n",
      "\n",
      "测试集特征值：\n",
      " [[0.32078006 0.18651851]\n",
      " [0.41038292 0.75555114]\n",
      " [0.96244729 0.2517823 ]\n",
      " [0.11959425 0.71324479]\n",
      " [0.88721274 0.47221493]] \n",
      "\n",
      "测试集目标值：\n",
      " [4.63754458 7.50473903 6.25243209 6.82078494 7.04711437] \n",
      "\n",
      "预测结果：\n",
      " [4.56282808 7.6164587  6.19190731 6.81394262 7.15213857]\n"
     ]
    }
   ],
   "execution_count": 13
  },
  {
   "cell_type": "markdown",
   "id": "a28d09cb",
   "metadata": {},
   "source": [
    "##### 3. 全面版:sklearn 实现(含预处理、正则化、评估)"
   ]
  },
  {
   "cell_type": "code",
   "id": "80149c4f",
   "metadata": {
    "ExecuteTime": {
     "end_time": "2025-07-24T06:49:03.222109Z",
     "start_time": "2025-07-24T06:49:03.215923Z"
    }
   },
   "source": [
    "import numpy as np\n",
    "from sklearn.linear_model import LinearRegression, Ridge\n",
    "from sklearn.preprocessing import StandardScaler\n",
    "from sklearn.model_selection import train_test_split, cross_val_score\n",
    "from sklearn.metrics import mean_squared_error, r2_score\n",
    "\n",
    "# 1. 生成复杂数据(含多重共线性)\n",
    "np.random.seed(42)\n",
    "X1 = np.random.rand(1000)  # 生成 1000 个服从 [0, 1) 均匀分布的随机数作为特征 1\n",
    "X2 = 0.8*X1 + 0.2*np.random.rand(1000)  # 生成与 X1 高度相关的特征 2，引入部分随机噪声以模拟多重共线性\n",
    "X3 = np.random.rand(1000)\n",
    "X = np.column_stack([X1, X2, X3])  # 将三个特征按列合并成一个二维数组，作为特征矩阵 X\n",
    "y = 1.2 + 3.5*X1 - 2.1*X2 + 4.8*X3 + np.random.normal(0, 0.3, 1000)\n",
    "print(\"X1:\\n\", X1[:5],\"\\n\")\n",
    "print(\"X2:\\n\", X2[:5],\"\\n\")\n",
    "print(\"X3:\\n\", X3[:5],\"\\n\")\n",
    "print(\"X:\\n\", X[:5],\"\\n\")\n",
    "print(\"y:\\n\", y[:5],\"\\n\")"
   ],
   "outputs": [
    {
     "name": "stdout",
     "output_type": "stream",
     "text": [
      "X1:\n",
      " [0.37454012 0.95071431 0.73199394 0.59865848 0.15601864] \n",
      "\n",
      "X2:\n",
      " [0.33665868 0.86895163 0.76018432 0.62537176 0.28612714] \n",
      "\n",
      "X3:\n",
      " [0.26170568 0.2469788  0.90625458 0.2495462  0.27194973] \n",
      "\n",
      "X:\n",
      " [[0.37454012 0.33665868 0.26170568]\n",
      " [0.95071431 0.86895163 0.2469788 ]\n",
      " [0.73199394 0.76018432 0.90625458]\n",
      " [0.59865848 0.62537176 0.2495462 ]\n",
      " [0.15601864 0.28612714 0.27194973]] \n",
      "\n",
      "y:\n",
      " [3.37807538 4.07330166 6.72068451 2.77005903 2.81414012] \n",
      "\n"
     ]
    }
   ],
   "execution_count": 15
  },
  {
   "metadata": {
    "ExecuteTime": {
     "end_time": "2025-07-24T06:55:26.317930Z",
     "start_time": "2025-07-24T06:55:26.312761Z"
    }
   },
   "cell_type": "code",
   "source": [
    "# 2. 数据预处理(标准化)\n",
    "scaler = StandardScaler()\n",
    "X_scaled = scaler.fit_transform(X)\n",
    "print(\"X_scaled:\\n\",X_scaled[:5],\"\\n\")"
   ],
   "id": "ef057944084760d5",
   "outputs": [
    {
     "name": "stdout",
     "output_type": "stream",
     "text": [
      "X_scaled:\n",
      " [[-0.39630103 -0.64737723 -0.82848938]\n",
      " [ 1.57695733  1.54819008 -0.8791793 ]\n",
      " [ 0.82789256  1.09955374  1.39004747]\n",
      " [ 0.37125061  0.54348769 -0.87034231]\n",
      " [-1.14468466 -0.85580643 -0.79322939]] \n",
      "\n"
     ]
    }
   ],
   "execution_count": 16
  },
  {
   "metadata": {
    "ExecuteTime": {
     "end_time": "2025-07-24T06:58:45.633239Z",
     "start_time": "2025-07-24T06:58:45.625609Z"
    }
   },
   "cell_type": "code",
   "source": [
    "# 3. 划分数据集\n",
    "X_train, X_test, y_train, y_test = train_test_split(X_scaled, y, test_size=0.2, random_state=42)\n",
    "\n",
    "# 4. 训练模型(普通线性回归 vs 岭回归)\n",
    "model_lr = LinearRegression()\n",
    "model_ridge = Ridge(alpha=1.0)  # alpha为正则化强度\n",
    "\n",
    "model_lr.fit(X_train, y_train)\n",
    "model_ridge.fit(X_train, y_train)\n",
    "\n",
    "# 5. 模型对比\n",
    "print(\"普通线性回归参数:\")\n",
    "print(f\"截距:{model_lr.intercept_:.4f}，权重:{model_lr.coef_}\")\n",
    "print(\"\\n岭回归参数(缓解多重共线性):\")\n",
    "print(f\"截距:{model_ridge.intercept_:.4f}，权重:{model_ridge.coef_}\")"
   ],
   "id": "d62d167e741073aa",
   "outputs": [
    {
     "name": "stdout",
     "output_type": "stream",
     "text": [
      "普通线性回归参数:\n",
      "截距:4.2953，权重:[ 1.10554446 -0.60520105  1.39628486]\n",
      "\n",
      "岭回归参数(缓解多重共线性):\n",
      "截距:4.2951，权重:[ 1.07026118 -0.57026211  1.39433284]\n"
     ]
    }
   ],
   "execution_count": 18
  },
  {
   "metadata": {
    "ExecuteTime": {
     "end_time": "2025-07-24T07:14:46.240974Z",
     "start_time": "2025-07-24T07:14:46.222045Z"
    }
   },
   "cell_type": "code",
   "source": [
    "# 6. 交叉验证评估\n",
    "cv_scores_lr = cross_val_score(model_lr, X_scaled, y, cv=5, scoring='r2')  #  scoring='r2' 表示使用决定系数（R²）作为评估指标\n",
    "cv_scores_ridge = cross_val_score(model_ridge, X_scaled, y, cv=5, scoring='r2')\n",
    "print(f\"\\n普通线性回归交叉验证R²:{cv_scores_lr.mean():.4f}(±{cv_scores_lr.std():.4f})\")  # 标准差体现得分的波动情况\n",
    "print(f\"岭回归交叉验证R²:{cv_scores_ridge.mean():.4f}(±{cv_scores_ridge.std():.4f})\")"
   ],
   "id": "74b63b10e47854cd",
   "outputs": [
    {
     "name": "stdout",
     "output_type": "stream",
     "text": [
      "\n",
      "普通线性回归交叉验证R²:0.9611(±0.0020)\n",
      "岭回归交叉验证R²:0.9610(±0.0020)\n"
     ]
    }
   ],
   "execution_count": 21
  },
  {
   "metadata": {
    "ExecuteTime": {
     "end_time": "2025-07-24T07:15:14.920312Z",
     "start_time": "2025-07-24T07:15:14.914622Z"
    }
   },
   "cell_type": "code",
   "source": [
    "# 7. 测试集评估\n",
    "y_pred_lr = model_lr.predict(X_test)\n",
    "y_pred_ridge = model_ridge.predict(X_test)\n",
    "print(\"\\n测试集评估:\")\n",
    "print(f\"普通线性回归 R²:{r2_score(y_test, y_pred_lr):.4f},MSE:{mean_squared_error(y_test, y_pred_lr):.4f}\")\n",
    "print(f\"岭回归 R²:{r2_score(y_test, y_pred_ridge):.4f},MSE:{mean_squared_error(y_test, y_pred_ridge):.4f}\")"
   ],
   "id": "52ff706e0fa85c9a",
   "outputs": [
    {
     "name": "stdout",
     "output_type": "stream",
     "text": [
      "\n",
      "测试集评估:\n",
      "普通线性回归 R²:0.9614,MSE:0.0999\n",
      "岭回归 R²:0.9618,MSE:0.0989\n"
     ]
    }
   ],
   "execution_count": 22
  }
 ],
 "metadata": {
  "kernelspec": {
   "display_name": "Python 3",
   "language": "python",
   "name": "python3"
  },
  "language_info": {
   "codemirror_mode": {
    "name": "ipython",
    "version": 3
   },
   "file_extension": ".py",
   "mimetype": "text/x-python",
   "name": "python",
   "nbconvert_exporter": "python",
   "pygments_lexer": "ipython3",
   "version": "3.11.13"
  }
 },
 "nbformat": 4,
 "nbformat_minor": 5
}
