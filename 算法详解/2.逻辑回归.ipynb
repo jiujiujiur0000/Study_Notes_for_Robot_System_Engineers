{
 "cells": [
  {
   "cell_type": "markdown",
   "id": "e9223ef9188a173b",
   "metadata": {},
   "source": [
    "### 逻辑回归算法详解\n",
    "\n",
    "\n",
    "#### 一、核心概念  \n",
    "逻辑回归（Logistic Regression）是一种**监督学习算法**，虽名为“回归”，实则用于**分类任务**（主要是二分类，可扩展至多分类）。其核心思想是：通过Sigmoid函数将线性回归的输出（连续值）映射到[0,1]区间，得到“样本属于某一类”的概率，再根据概率进行分类决策。\n",
    "\n",
    "\n",
    "#### 二、数学模型  \n",
    "1. **线性基础**：先构建特征与目标值的线性关系  \n",
    "   $$z = w_0 + w_1x_1 + w_2x_2 + ... + w_nx_n = w^Tx + b$$  \n",
    "   （$w$ 为权重向量，$x$ 为特征向量，$b$ 为偏置项）\n",
    "\n",
    "2. **Sigmoid函数**：将线性输出 $z$ 映射为概率 $p$  \n",
    "   $$p = \\sigma(z) = \\frac{1}{1 + e^{-z}}$$  \n",
    "   Sigmoid函数图像为“S”形，特性是：  \n",
    "   - 当 $z \\to +\\infty$ 时，$p \\to 1$；  \n",
    "   - 当 $z \\to -\\infty$ 时，$p \\to 0$；  \n",
    "   - 当 $z = 0$ 时，$p = 0.5$。\n",
    "\n",
    "3. **分类决策**：设定阈值（通常为0.5）  \n",
    "   - 若 $p \\geq 0.5$，预测为类别1；  \n",
    "   - 若 $p < 0.5$，预测为类别0。  \n",
    "\n",
    "\n",
    "#### 三、损失函数  \n",
    "逻辑回归无法使用线性回归的均方误差（MSE）（会导致损失函数非凸，难以优化），而是采用**交叉熵损失（Cross-Entropy Loss）**：  \n",
    "\n",
    "对二分类问题，单个样本的损失为：  \n",
    "$$L(p, y) = -[y\\log(p) + (1-y)\\log(1-p)]$$  \n",
    "\n",
    "整体样本的平均损失为：  \n",
    "$$J(w, b) = -\\frac{1}{m}\\sum_{i=1}^m [y_i\\log(p_i) + (1-y_i)\\log(1-p_i)]$$  \n",
    "\n",
    "其中，$y_i \\in \\{0,1\\}$ 是真实标签，$p_i$ 是模型预测的类别1概率。  \n",
    "\n",
    "**损失函数意义**：  \n",
    "- 当 $y=1$ 而 $p$ 接近0时，损失趋近于无穷大（惩罚错分）；  \n",
    "- 当 $y=1$ 且 $p$ 接近1时，损失趋近于0（奖励正确预测）。  \n",
    "\n",
    "\n",
    "#### 四、参数求解方法  \n",
    "逻辑回归没有解析解，需通过**迭代优化算法**求解最优参数（$w$ 和 $b$），常用方法：  \n",
    "\n",
    "1. **梯度下降法**：  \n",
    "   - 计算损失函数对参数的梯度：  \n",
    "     $$\\frac{\\partial J}{\\partial w_j} = \\frac{1}{m}\\sum_{i=1}^m (p_i - y_i)x_{ij}$$  \n",
    "     $$\\frac{\\partial J}{\\partial b} = \\frac{1}{m}\\sum_{i=1}^m (p_i - y_i)$$  \n",
    "   - 沿梯度负方向更新参数：  \n",
    "     $$w_j = w_j - \\alpha \\cdot \\frac{\\partial J}{\\partial w_j}$$  \n",
    "     $$b = b - \\alpha \\cdot \\frac{\\partial J}{\\partial b}$$  \n",
    "     （$\\alpha$ 为学习率，控制更新步长）\n",
    "\n",
    "2. **其他优化器**：工程实现中常用更高效的优化算法（如拟牛顿法、Adam等），sklearn默认使用拟牛顿法（L-BFGS）。  \n",
    "\n",
    "\n",
    "#### 五、扩展变体  \n",
    "1. **多分类逻辑回归**（Softmax Regression）：  \n",
    "   对多类别任务，用Softmax函数替代Sigmoid，将线性输出映射为多个类别的概率分布：  \n",
    "   $$p(y=k) = \\frac{e^{z_k}}{\\sum_{c=1}^C e^{z_c}} \\quad (k=1,2,...,C)$$  \n",
    "   （$C$ 为类别数，$z_k$ 是类别 $k$ 的线性输出）\n",
    "\n",
    "2. **正则化逻辑回归**：  \n",
    "   - **L1正则化**：损失函数加入 $\\lambda\\sum|w_j|$，可实现特征选择；  \n",
    "   - **L2正则化**：损失函数加入 $\\lambda\\sum w_j^2$，缓解过拟合。  \n",
    "\n",
    "\n",
    "#### 六、适用场景  \n",
    "- **任务类型**：主要用于**二分类问题**（如垃圾邮件识别、疾病诊断、客户流失预测），也可扩展至多分类（如手写数字识别）。  \n",
    "- **数据要求**：  \n",
    "  - 特征与类别之间存在**线性可分趋势**（非线性关系需手动构造特征，如多项式、交互项）；  \n",
    "  - 样本量不宜过小（避免过拟合）。  \n",
    "- 典型场景：  \n",
    "  - 风控预测（用户是否违约）；  \n",
    "  - 营销响应（用户是否点击广告）；  \n",
    "  - 医疗诊断（是否患病）。  \n",
    "\n",
    "\n",
    "#### 七、实践要点  \n",
    "1. **特征预处理**：  \n",
    "   - **标准化/归一化**：逻辑回归对特征尺度敏感（权重受尺度影响），需先标准化（如用StandardScaler）。  \n",
    "   - **处理类别不平衡**：若正负样本比例悬殊，可通过：  \n",
    "     - 采样（过采样少数类、欠采样多数类）；  \n",
    "     - 调整类别权重（sklearn中class_weight参数）；  \n",
    "     - 改变决策阈值（如将0.5调整为0.3以提高少数类召回率）。  \n",
    "\n",
    "2. **过拟合处理**：  \n",
    "   - 增加正则化强度（调大sklearn中C参数的倒数，C越小正则化越强）；  \n",
    "   - 简化模型（减少特征数量）；  \n",
    "   - 增加训练数据。  \n",
    "\n",
    "3. **模型解释**：  \n",
    "   权重 $w_j$ 的符号和大小可解释特征影响：  \n",
    "   - $w_j > 0$：特征 $x_j$ 增大时，类别1的概率升高；  \n",
    "   - $w_j < 0$：特征 $x_j$ 增大时，类别1的概率降低；  \n",
    "   - $|w_j|$ 越大：特征对分类的影响越显著（需在标准化后比较）。  \n",
    "\n",
    "\n",
    "#### 八、评估指标怎么选？  \n",
    "逻辑回归作为分类模型，评估指标需反映分类准确性，选择依据**业务目标**：  \n",
    "\n",
    "| 指标名称       | 公式/含义                                                                 | 特点与适用场景                                                                 |\n",
    "|----------------|--------------------------------------------------------------------------|------------------------------------------------------------------------------|\n",
    "| 准确率（Accuracy） | $\\text{Accuracy} = \\frac{\\text{TP + TN}}{\\text{TP + TN + FP + FN}}$         | 整体分类正确率，适用于**样本平衡**的场景（如正负样本比例接近1:1）。               |\n",
    "| 精确率（Precision） | $\\text{Precision} = \\frac{\\text{TP}}{\\text{TP + FP}}$                       | 预测为正例的样本中，真实正例的比例，适用于**重视“预测准确”**的场景（如垃圾邮件识别，避免误删正常邮件）。 |\n",
    "| 召回率（Recall） | $\\text{Recall} = \\frac{\\text{TP}}{\\text{TP + FN}}$                           | 真实正例中被预测为正例的比例，适用于**重视“不漏掉正例”**的场景（如疾病诊断，避免漏诊）。       |\n",
    "| F1分数         | $\\text{F1} = 2 \\cdot \\frac{\\text{Precision} \\cdot \\text{Recall}}{\\text{Precision + Recall}}$ | 精确率和召回率的调和平均，适用于**平衡两者**的场景（如客户流失预测，既需准确识别流失客户，又不能误判太多）。 |\n",
    "| ROC曲线与AUC   | ROC曲线：以假正例率（FPR）为横轴，真正例率（TPR）为纵轴；AUC是曲线下面积（范围[0,1]） | 对**样本不平衡**鲁棒，AUC越接近1说明模型区分能力越强，适用于需要评估模型整体排序能力的场景（如信用评分）。 |\n",
    "\n",
    "- **优先选AUC**：评估模型区分正负样本的能力，不受阈值影响。  \n",
    "- **关注精确率/召回率**：根据业务对“误判”和“漏判”的容忍度选择（如癌症筛查优先保证高召回率）。  \n",
    "\n",
    "\n",
    "#### 九、代码实例（3种）\n",
    "\n",
    "\n",
    "##### 1. 简洁版：手撕逻辑回归（梯度下降）  "
   ]
  },
  {
   "cell_type": "code",
   "id": "5663819f",
   "metadata": {
    "ExecuteTime": {
     "end_time": "2025-07-24T22:39:55.103109Z",
     "start_time": "2025-07-24T22:39:54.941649Z"
    }
   },
   "source": [
    "import numpy as np\n",
    "\n",
    "# 1. 生成二分类样本数据\n",
    "np.random.seed(42)\n",
    "X = np.random.randn(100, 2)  # 2个特征\n",
    "# 真实决策边界：x1 + x2 = 0，正样本满足x1 + x2 > 0\n",
    "y = (X[:,0] + X[:,1] > 0).astype(int)  # 标签0或1\n",
    "\n",
    "# 2. 添加偏置项（x0=1）\n",
    "X_b = np.hstack([np.ones((X.shape[0], 1)), X])\n",
    "\n",
    "# 3. 定义Sigmoid函数\n",
    "def sigmoid(z):\n",
    "    return 1 / (1 + np.exp(-z))\n",
    "\n",
    "# 4. 梯度下降求解参数\n",
    "def logistic_regression(X, y, lr=0.01, epochs=1000):\n",
    "    m, n = X.shape\n",
    "    w = np.zeros(n)  # 初始化权重（含偏置）\n",
    "    \n",
    "    for _ in range(epochs):\n",
    "        z = X @ w\n",
    "        p = sigmoid(z)\n",
    "        gradient = (X.T @ (p - y)) / m  # 梯度\n",
    "        w -= lr * gradient  # 更新权重\n",
    "    \n",
    "    return w\n",
    "\n",
    "# 训练模型\n",
    "w = logistic_regression(X_b, y, lr=0.1, epochs=5000)\n",
    "print(\"参数w（偏置+权重）：\", w)\n",
    "\n",
    "# 5. 预测\n",
    "z = X_b @ w\n",
    "p = sigmoid(z)\n",
    "y_pred = (p >= 0.5).astype(int)  # 阈值0.5\n",
    "print(\"预测准确率：\", np.mean(y_pred == y))\n"
   ],
   "outputs": [
    {
     "name": "stdout",
     "output_type": "stream",
     "text": [
      "参数w（偏置+权重）： [-0.15171841  6.88433818  6.66628617]\n",
      "预测准确率： 1.0\n"
     ]
    }
   ],
   "execution_count": 2
  },
  {
   "cell_type": "markdown",
   "id": "fa1ab2c1",
   "metadata": {},
   "source": [
    "##### 2. 简洁版：sklearn实现逻辑回归  "
   ]
  },
  {
   "cell_type": "code",
   "id": "4d650ae4",
   "metadata": {
    "ExecuteTime": {
     "end_time": "2025-07-24T22:39:56.951819Z",
     "start_time": "2025-07-24T22:39:55.126347Z"
    }
   },
   "source": [
    "import numpy as np\n",
    "from sklearn.linear_model import LogisticRegression\n",
    "from sklearn.model_selection import train_test_split\n",
    "\n",
    "# 1. 生成数据（同上）\n",
    "np.random.seed(42)\n",
    "X = np.random.randn(100, 2)\n",
    "y = (X[:,0] + X[:,1] > 0).astype(int)\n",
    "\n",
    "# 2. 划分训练集和测试集\n",
    "X_train, X_test, y_train, y_test = train_test_split(\n",
    "    X, y, test_size=0.2, random_state=42\n",
    ")\n",
    "\n",
    "# 3. 训练模型（默认L2正则化）\n",
    "model = LogisticRegression()\n",
    "model.fit(X_train, y_train)\n",
    "\n",
    "# 4. 输出参数与评估\n",
    "print(\"偏置项：\", model.intercept_[0])\n",
    "print(\"权重：\", model.coef_[0])\n",
    "print(\"测试集准确率：\", model.score(X_test, y_test))\n"
   ],
   "outputs": [
    {
     "name": "stdout",
     "output_type": "stream",
     "text": [
      "偏置项： -0.08590557809099152\n",
      "权重： [2.4004148  2.51542597]\n",
      "测试集准确率： 1.0\n"
     ]
    }
   ],
   "execution_count": 3
  },
  {
   "cell_type": "markdown",
   "id": "4e7948be",
   "metadata": {},
   "source": [
    "##### 3. 全面版：sklearn实现（含正则化与AUC）"
   ]
  },
  {
   "cell_type": "code",
   "id": "371d61c2",
   "metadata": {
    "ExecuteTime": {
     "end_time": "2025-07-24T22:39:57.541167Z",
     "start_time": "2025-07-24T22:39:56.971714Z"
    }
   },
   "source": [
    "import numpy as np\n",
    "import pandas as pd\n",
    "import matplotlib.pyplot as plt\n",
    "import matplotlib\n",
    "\n",
    "# 关键设置：指定Windows系统自带的中文字体\n",
    "matplotlib.rcParams[\"font.family\"] = [\"SimHei\", \"Microsoft YaHei\"]  # 优先使用黑体，其次微软雅黑\n",
    "matplotlib.rcParams[\"axes.unicode_minus\"] = False  # 解决负号显示为方块的问题\n",
    "from sklearn.datasets import load_breast_cancer\n",
    "from sklearn.model_selection import train_test_split, GridSearchCV\n",
    "from sklearn.preprocessing import StandardScaler\n",
    "from sklearn.linear_model import LogisticRegression\n",
    "from sklearn.metrics import (\n",
    "    accuracy_score, precision_score, recall_score, f1_score,\n",
    "    roc_curve, auc, confusion_matrix, classification_report\n",
    ")"
   ],
   "outputs": [],
   "execution_count": 4
  },
  {
   "metadata": {
    "ExecuteTime": {
     "end_time": "2025-07-24T22:39:57.570734Z",
     "start_time": "2025-07-24T22:39:57.558837Z"
    }
   },
   "cell_type": "code",
   "source": [
    "# 1. 加载真实数据集（乳腺癌检测，二分类）\n",
    "data = load_breast_cancer()\n",
    "X = data.data  # 30个特征（肿瘤属性）\n",
    "y = data.target  # 标签：0=恶性，1=良性\n",
    "print(f\"特征形状：{X.shape}, 标签分布：{np.bincount(y)}（恶性/良性）\\n\")  # np.bincount(y) 用于统计标签数组 y 中每个非负整数标签的出现次数，这里对应恶性和良性样本的数量\n",
    "print(\"data：\\n\", X[:5,:5], \"\\n...\")  # 展示部分特征"
   ],
   "id": "d1ce714b04682507",
   "outputs": [
    {
     "name": "stdout",
     "output_type": "stream",
     "text": [
      "特征形状：(569, 30), 标签分布：[212 357]（恶性/良性）\n",
      "\n",
      "data：\n",
      " [[1.799e+01 1.038e+01 1.228e+02 1.001e+03 1.184e-01]\n",
      " [2.057e+01 1.777e+01 1.329e+02 1.326e+03 8.474e-02]\n",
      " [1.969e+01 2.125e+01 1.300e+02 1.203e+03 1.096e-01]\n",
      " [1.142e+01 2.038e+01 7.758e+01 3.861e+02 1.425e-01]\n",
      " [2.029e+01 1.434e+01 1.351e+02 1.297e+03 1.003e-01]] \n",
      "...\n"
     ]
    }
   ],
   "execution_count": 5
  },
  {
   "cell_type": "code",
   "id": "bde132c6",
   "metadata": {
    "ExecuteTime": {
     "end_time": "2025-07-24T22:39:57.653057Z",
     "start_time": "2025-07-24T22:39:57.617183Z"
    }
   },
   "source": [
    "# 2. 数据预处理\n",
    "# 划分训练集和测试集（7:3）\n",
    "X_train, X_test, y_train, y_test = train_test_split(\n",
    "    X, y, test_size=0.3, random_state=42, stratify=y  # stratify保持类别比例\n",
    ")\n",
    "\n",
    "# 标准化特征（逻辑回归必需）\n",
    "scaler = StandardScaler()\n",
    "X_train_scaled = scaler.fit_transform(X_train)\n",
    "X_test_scaled = scaler.transform(X_test)\n",
    "\n",
    "# 3. 训练模型（对比不同正则化）\n",
    "# 定义模型：L1正则化（Lasso）和L2正则化（Ridge）\n",
    "models = {\n",
    "    \"L2正则化（默认）\": LogisticRegression(penalty='l2', solver='liblinear'),\n",
    "        # 1. 创建一个使用 L2 正则化的逻辑回归模型，命名为 \"L2正则化（默认）\"\n",
    "        # 2. penalty='l2' 表示使用 L2 正则化，它会在损失函数中加入权重的平方和项，用于缓解过拟合\n",
    "        # 3. solver='liblinear' 表示使用 liblinear 优化算法，该算法适用于小数据集，支持 L1 和 L2 正则化\n",
    "\n",
    "    \"L1正则化\": LogisticRegression(penalty='l1', solver='liblinear')  # L1需用liblinear solver\n",
    "}\n",
    "\n",
    "# 训练并评估\n",
    "results = {}\n",
    "for name, model in models.items():\n",
    "    model.fit(X_train_scaled, y_train)\n",
    "    y_pred = model.predict(X_test_scaled)\n",
    "    y_pred_proba = model.predict_proba(X_test_scaled)[:, 1]  # 类别1的概率\n",
    "    \"\"\"\n",
    "        1. model.predict_proba() :用于预测样本属于各个类别的概率。在逻辑回归模型里，它会返回一个二维数组，其中每一行对应一个样本，每一列对应一个类别，数组元素的值表示该样本属于对应类别的概率。\n",
    "        2. [:, 1] 切片操作表示取出所有样本属于类别1的概率\n",
    "    \"\"\"\n",
    "\n",
    "    # 计算评估指标\n",
    "    results[name] = {\n",
    "        \"模型\": model,\n",
    "        \"预测值\": y_pred,\n",
    "        \"概率\": y_pred_proba,\n",
    "        \"准确率\": accuracy_score(y_test, y_pred),\n",
    "        \"精确率\": precision_score(y_test, y_pred),\n",
    "        \"召回率\": recall_score(y_test, y_pred),\n",
    "        \"F1\": f1_score(y_test, y_pred),\n",
    "        \"AUC\": auc(*roc_curve(y_test, y_pred_proba)[:2])\n",
    "    }\n",
    "\n",
    "# 4. 模型对比\n",
    "print(\"\\n--- 模型评估指标对比 ---\")\n",
    "metrics_df = pd.DataFrame({\n",
    "    \"模型\": results.keys(),\n",
    "    \"精确率\": [results[name][\"精确率\"] for name in results],\n",
    "    \"召回率\": [results[name][\"召回率\"] for name in results],\n",
    "    \"F1\": [results[name][\"F1\"] for name in results],\n",
    "    \"AUC\": [results[name][\"AUC\"] for name in results]\n",
    "})\n",
    "print(metrics_df.round(4))"
   ],
   "outputs": [
    {
     "name": "stdout",
     "output_type": "stream",
     "text": [
      "\n",
      "--- 模型评估指标对比 ---\n",
      "          模型     精确率     召回率      F1     AUC\n",
      "0  L2正则化（默认）  0.9907  0.9907  0.9907  0.9981\n",
      "1      L1正则化  0.9725  0.9907  0.9815  0.9950\n"
     ]
    }
   ],
   "execution_count": 6
  },
  {
   "cell_type": "code",
   "id": "90c04c79",
   "metadata": {
    "ExecuteTime": {
     "end_time": "2025-07-24T22:39:57.688864Z",
     "start_time": "2025-07-24T22:39:57.676490Z"
    }
   },
   "source": [
    "# 5. 最优模型详细评估（以L2正则化为例）\n",
    "best_model = results[\"L2正则化（默认）\"][\"模型\"]\n",
    "print(\"\\n--- 最佳模型详细报告 ---\")\n",
    "print(classification_report(y_test, results[\"L2正则化（默认）\"][\"预测值\"],target_names=[\"恶性\", \"良性\"]))\n",
    "# classification_report 是 sklearn.metrics 模块中的一个函数，用于生成分类模型的详细评估\n",
    "# 报告。它会显示每个类别的精确率（Precision）、召回率（Recall）、F1 分数（F1-score）和支持\n",
    "# 样本数（Support），同时还会给出所有类别的宏平均（Macro Average）和加权平均（Weighted\n",
    "# Average）结果。\n",
    "\n",
    "# 混淆矩阵\n",
    "cm = confusion_matrix(y_test, results[\"L2正则化（默认）\"][\"预测值\"])\n",
    "print(\"\\n混淆矩阵：\")\n",
    "print(cm)"
   ],
   "outputs": [
    {
     "name": "stdout",
     "output_type": "stream",
     "text": [
      "\n",
      "--- 最佳模型详细报告 ---\n",
      "              precision    recall  f1-score   support\n",
      "\n",
      "          恶性       0.98      0.98      0.98        64\n",
      "          良性       0.99      0.99      0.99       107\n",
      "\n",
      "    accuracy                           0.99       171\n",
      "   macro avg       0.99      0.99      0.99       171\n",
      "weighted avg       0.99      0.99      0.99       171\n",
      "\n",
      "\n",
      "混淆矩阵：\n",
      "[[ 63   1]\n",
      " [  1 106]]\n"
     ]
    }
   ],
   "execution_count": 7
  },
  {
   "cell_type": "code",
   "id": "3e64304c",
   "metadata": {
    "ExecuteTime": {
     "end_time": "2025-07-24T22:39:57.912046Z",
     "start_time": "2025-07-24T22:39:57.725937Z"
    }
   },
   "source": [
    "# 6. 绘制ROC曲线\n",
    "plt.figure(figsize=(8, 6))\n",
    "for name in models.keys():\n",
    "    fpr, tpr, _ = roc_curve(y_test, results[name][\"概率\"])\n",
    "    # 使用 roc_curve 函数计算当前模型预测结果的假正例率（FPR）、真正例率（TPR）和阈值\n",
    "    # y_test 为真实标签，results[name][\"概率\"] 为当前模型预测的类别1的概率\n",
    "\n",
    "    plt.plot(fpr, tpr, label=f\"{name} (AUC = {results[name]['AUC']:.4f})\")\n",
    "    # 绘制当前模型的 ROC 曲线\n",
    "    # fpr 为假正例率，作为 x 轴数据；tpr 为真正例率，作为 y 轴数据\n",
    "    # label 参数设置曲线的图例标签，显示模型名称和对应的 AUC 值（保留4位小数）\n",
    "\n",
    "# 绘制随机猜测的基准线\n",
    "plt.plot([0, 1], [0, 1], 'k--')  # 随机猜测的基准线\n",
    "# [0, 1]（第一个参数）：表示 x 轴上的两个点，即 FPR 从 0 变化到 1。\n",
    "# [0, 1]（第二个参数）：表示 y 轴上的两个点，即 TPR 从 0 变化到 1。\n",
    "# 'k--' 是绘图格式字符串，'k' 表示颜色为黑色（black），'--' 表示使用虚线样式。\n",
    "\n",
    "plt.xlabel(\"假正例率（FPR）\")\n",
    "plt.ylabel(\"真正例率（TPR）\")\n",
    "plt.title(\"ROC曲线对比\")\n",
    "plt.legend()  # 显示图例\n",
    "plt.grid(alpha=0.3)  # 添加网格线，alpha 控制透明度\n",
    "plt.show()"
   ],
   "outputs": [
    {
     "data": {
      "text/plain": [
       "<Figure size 800x600 with 1 Axes>"
      ],
      "image/png": "[encoded data removed]"
     },
     "metadata": {},
     "output_type": "display_data"
    }
   ],
   "execution_count": 8
  },
  {
   "cell_type": "code",
   "id": "92a819b4",
   "metadata": {
    "ExecuteTime": {
     "end_time": "2025-07-24T22:40:02.410676Z",
     "start_time": "2025-07-24T22:40:02.303219Z"
    }
   },
   "source": [
    "# 7. 特征重要性（权重绝对值）\n",
    "# 获取最佳模型的权重系数，best_model.coef_ 是一个二维数组，[0] 表示取第一行\n",
    "weights = best_model.coef_[0]\n",
    "print(weights)\n",
    "\n",
    "importance = np.abs(weights)\n",
    "\n",
    "# 使用 np.argsort 对特征重要性进行排序，返回排序后的索引，[-5:] 表示取索引的最后5个，即重要性最大的5个特征的索引\n",
    "top_idx = np.argsort(importance)[-5:]  # 取权重最大的5个特征\n",
    "\n",
    "plt.figure(figsize=(10, 6))\n",
    "# 绘制水平条形图展示对分类影响最大的5个特征的权重\n",
    "# data.feature_names[top_idx]：获取最重要的5个特征的名称\n",
    "# weights[top_idx]：获取这5个特征对应的权重值\n",
    "plt.barh(data.feature_names[top_idx], weights[top_idx])\n",
    "\n",
    "plt.xlabel(\"特征权重（标准化后）\")\n",
    "plt.title(\"对分类影响最大的5个特征（权重）\")\n",
    "# 添加水平网格线，设置网格线的透明度为0.3，仅显示x轴方向的网格线\n",
    "plt.grid(alpha=0.3, axis='x')\n",
    "\n",
    "plt.show()"
   ],
   "outputs": [
    {
     "name": "stdout",
     "output_type": "stream",
     "text": [
      "[-0.48431991 -0.46467509 -0.4503601  -0.55685253 -0.15972054  0.65734006\n",
      " -0.54263986 -0.6288608  -0.11581996  0.02977112 -0.88835779  0.36116556\n",
      " -0.2111288  -0.95481577 -0.18663722  0.57519908  0.16879018 -0.25735014\n",
      "  0.31928871  0.34294713 -0.93863448 -1.21290675 -0.73206367 -0.97569074\n",
      " -0.7585647   0.02832094 -0.79133303 -0.99061511 -0.86116755 -0.1606306 ]\n"
     ]
    },
    {
     "data": {
      "text/plain": [
       "<Figure size 1000x600 with 1 Axes>"
      ],
      "image/png": "[encoded data removed]"
     },
     "metadata": {},
     "output_type": "display_data"
    }
   ],
   "execution_count": 9
  },
  {
   "cell_type": "markdown",
   "id": "1661ca30",
   "metadata": {},
   "source": [
    "### 总结  \n",
    "逻辑回归是二分类任务的基础模型，核心是通过Sigmoid函数将线性输出转化为概率。其优点是**可解释性强、训练高效、输出概率有明确意义**，缺点是**只能捕捉线性关系**（需手动构造特征处理非线性）。实践中需注意特征标准化、类别不平衡处理和正则化调参，评估时根据业务目标选择合适指标（如AUC、F1等）。"
   ]
  }
 ],
 "metadata": {
  "kernelspec": {
   "display_name": "base",
   "language": "python",
   "name": "python3"
  },
  "language_info": {
   "codemirror_mode": {
    "name": "ipython",
    "version": 3
   },
   "file_extension": ".py",
   "mimetype": "text/x-python",
   "name": "python",
   "nbconvert_exporter": "python",
   "pygments_lexer": "ipython3",
   "version": "3.13.5"
  }
 },
 "nbformat": 4,
 "nbformat_minor": 5
}
